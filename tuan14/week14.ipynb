{
  "cells": [
    {
      "cell_type": "markdown",
      "metadata": {
        "id": "H_lu9b9_5IvR"
      },
      "source": [
        "khai báo thư viện"
      ]
    },
    {
      "cell_type": "code",
      "execution_count": null,
      "metadata": {
        "id": "Ru3SVI3hxtBI"
      },
      "outputs": [],
      "source": [
        "\n",
        "import requests\n",
        "import pandas as pd\n",
        "from io import StringIO\n",
        "from sklearn.metrics import classification_report\n",
        "from sklearn.svm import SVC\n",
        "from sklearn.ensemble import RandomForestClassifier\n",
        "from sklearn.neighbors import KNeighborsClassifier\n",
        "from sklearn.feature_extraction.text import CountVectorizer\n",
        "from sklearn.metrics import classification_report\n",
        "from sklearn.linear_model import LogisticRegression\n",
        "from sklearn.metrics import ConfusionMatrixDisplay,accuracy_score\n"
      ]
    },
    {
      "cell_type": "markdown",
      "metadata": {
        "id": "46MfU3t45MVO"
      },
      "source": [
        "lấy dữ liệu"
      ]
    },
    {
      "cell_type": "code",
      "execution_count": 2,
      "metadata": {
        "id": "2sy9ZjmRxtBL"
      },
      "outputs": [],
      "source": [
        "\n",
        "train = pd.read_csv(\"https://groups.csail.mit.edu/sls/downloads/movie/engtrain.bio\", sep='\\t', header=None, names=['Label', 'Text'])\n",
        "\n"
      ]
    },
    {
      "cell_type": "code",
      "execution_count": 3,
      "metadata": {
        "colab": {
          "base_uri": "https://localhost:8080/",
          "height": 206
        },
        "id": "nU-Gk8SGxtBM",
        "outputId": "8b7a756f-574b-4a4d-d128-d55cfc46ef83"
      },
      "outputs": [
        {
          "data": {
            "text/html": [
              "<div>\n",
              "<style scoped>\n",
              "    .dataframe tbody tr th:only-of-type {\n",
              "        vertical-align: middle;\n",
              "    }\n",
              "\n",
              "    .dataframe tbody tr th {\n",
              "        vertical-align: top;\n",
              "    }\n",
              "\n",
              "    .dataframe thead th {\n",
              "        text-align: right;\n",
              "    }\n",
              "</style>\n",
              "<table border=\"1\" class=\"dataframe\">\n",
              "  <thead>\n",
              "    <tr style=\"text-align: right;\">\n",
              "      <th></th>\n",
              "      <th>Label</th>\n",
              "      <th>Text</th>\n",
              "    </tr>\n",
              "  </thead>\n",
              "  <tbody>\n",
              "    <tr>\n",
              "      <th>0</th>\n",
              "      <td>O</td>\n",
              "      <td>what</td>\n",
              "    </tr>\n",
              "    <tr>\n",
              "      <th>1</th>\n",
              "      <td>O</td>\n",
              "      <td>movies</td>\n",
              "    </tr>\n",
              "    <tr>\n",
              "      <th>2</th>\n",
              "      <td>O</td>\n",
              "      <td>star</td>\n",
              "    </tr>\n",
              "    <tr>\n",
              "      <th>3</th>\n",
              "      <td>B-ACTOR</td>\n",
              "      <td>bruce</td>\n",
              "    </tr>\n",
              "    <tr>\n",
              "      <th>4</th>\n",
              "      <td>I-ACTOR</td>\n",
              "      <td>willis</td>\n",
              "    </tr>\n",
              "  </tbody>\n",
              "</table>\n",
              "</div>"
            ],
            "text/plain": [
              "     Label    Text\n",
              "0        O    what\n",
              "1        O  movies\n",
              "2        O    star\n",
              "3  B-ACTOR   bruce\n",
              "4  I-ACTOR  willis"
            ]
          },
          "execution_count": 3,
          "metadata": {},
          "output_type": "execute_result"
        }
      ],
      "source": [
        "train.head()"
      ]
    },
    {
      "cell_type": "code",
      "execution_count": 4,
      "metadata": {
        "id": "kj6TJrCIxtBN"
      },
      "outputs": [],
      "source": [
        "test = pd.read_csv(\"https://groups.csail.mit.edu/sls/downloads/movie/engtest.bio\", sep='\\t', header=None, names=['Label', 'Text'])"
      ]
    },
    {
      "cell_type": "code",
      "execution_count": null,
      "metadata": {
        "colab": {
          "base_uri": "https://localhost:8080/",
          "height": 35
        },
        "id": "wYhuHhbAxtBN",
        "outputId": "7163d5f1-42aa-403c-dda5-14f4e1759d80"
      },
      "outputs": [
        {
          "data": {
            "application/vnd.google.colaboratory.intrinsic+json": {
              "type": "string"
            },
            "text/plain": [
              "'are'"
            ]
          },
          "execution_count": 38,
          "metadata": {},
          "output_type": "execute_result"
        }
      ],
      "source": [
        "test.Text[0]"
      ]
    },
    {
      "cell_type": "markdown",
      "metadata": {
        "id": "w3OIo68h5Fvd"
      },
      "source": [
        "vector hóa text"
      ]
    },
    {
      "cell_type": "code",
      "execution_count": null,
      "metadata": {
        "id": "T-OWUTW3xtBO"
      },
      "outputs": [],
      "source": [
        "X_train = train['Text']\n",
        "y_train = train['Label']\n",
        "\n",
        "X_test = test['Text']\n",
        "y_test = test['Label']\n",
        "vectorizer = CountVectorizer()\n",
        "X_train_vect = vectorizer.fit_transform(X_train)\n",
        "X_test_vect = vectorizer.transform(X_test)\n",
        "\n"
      ]
    },
    {
      "cell_type": "markdown",
      "metadata": {},
      "source": [
        "support vector machine model"
      ]
    },
    {
      "cell_type": "code",
      "execution_count": null,
      "metadata": {},
      "outputs": [],
      "source": [
        "from sklearn import svm\n",
        "\n",
        "# Train SVM model\n",
        "clf = svm.SVC(kernel='linear')\n",
        "clf.fit(X_train, y_train)\n",
        "\n",
        "# Evaluate the model\n",
        "y_pred = clf.predict(X_test)\n",
        "\n",
        "\n",
        "print(classification_report(y_test, y_pred))\n",
        "\n",
        "#accuracy score\n",
        "print(f\"Accuracy:{accuracy_score(y_test, y_pred)}\")\n",
        "\n",
        "# draw confusion matrix\n",
        "ConfusionMatrixDisplay.from_estimator(clf, X_test, y_test)"
      ]
    },
    {
      "cell_type": "markdown",
      "metadata": {
        "id": "TGyodqqr5PmU"
      },
      "source": [
        "train mô hình random forest"
      ]
    },
    {
      "cell_type": "code",
      "execution_count": null,
      "metadata": {
        "colab": {
          "base_uri": "https://localhost:8080/",
          "height": 981
        },
        "id": "gzbavcr4y0Wl",
        "outputId": "b170a378-b79e-4f93-f629-d3a72059b98f"
      },
      "outputs": [
        {
          "name": "stdout",
          "output_type": "stream",
          "text": [
            "Random Forest:\n",
            "                   precision    recall  f1-score   support\n",
            "\n",
            "          B-ACTOR       0.77      0.84      0.80       812\n",
            "      B-CHARACTER       0.57      0.26      0.35        90\n",
            "       B-DIRECTOR       0.69      0.51      0.58       456\n",
            "          B-GENRE       0.86      0.94      0.90      1117\n",
            "           B-PLOT       0.60      0.46      0.52       491\n",
            "         B-RATING       0.99      0.56      0.71       500\n",
            "B-RATINGS_AVERAGE       0.70      0.54      0.61       451\n",
            "         B-REVIEW       0.25      0.02      0.03        56\n",
            "           B-SONG       0.43      0.11      0.18        54\n",
            "          B-TITLE       0.58      0.34      0.43       562\n",
            "        B-TRAILER       0.82      0.90      0.86        30\n",
            "           B-YEAR       0.90      0.94      0.92       720\n",
            "          I-ACTOR       0.83      0.76      0.79       862\n",
            "      I-CHARACTER       0.58      0.24      0.34        75\n",
            "       I-DIRECTOR       0.74      0.48      0.58       496\n",
            "          I-GENRE       0.89      0.50      0.64       222\n",
            "           I-PLOT       0.44      0.21      0.29       496\n",
            "         I-RATING       0.98      0.87      0.92       226\n",
            "I-RATINGS_AVERAGE       0.63      0.47      0.54       403\n",
            "         I-REVIEW       0.00      0.00      0.00        45\n",
            "           I-SONG       0.39      0.13      0.20       119\n",
            "          I-TITLE       0.55      0.30      0.39       856\n",
            "        I-TRAILER       0.00      0.00      0.00         8\n",
            "           I-YEAR       0.79      0.50      0.61       610\n",
            "                O       0.85      0.98      0.91     14929\n",
            "\n",
            "         accuracy                           0.82     24686\n",
            "        macro avg       0.63      0.47      0.52     24686\n",
            "     weighted avg       0.80      0.82      0.80     24686\n",
            "\n"
          ]
        },
        {
          "name": "stderr",
          "output_type": "stream",
          "text": [
            "/usr/local/lib/python3.10/dist-packages/sklearn/ensemble/_forest.py:879: RuntimeWarning: divide by zero encountered in divide\n",
            "  proba /= len(self.estimators_)\n",
            "/usr/local/lib/python3.10/dist-packages/sklearn/ensemble/_forest.py:879: RuntimeWarning: invalid value encountered in divide\n",
            "  proba /= len(self.estimators_)\n"
          ]
        },
        {
          "ename": "AttributeError",
          "evalue": "'list' object has no attribute 'take'",
          "output_type": "error",
          "traceback": [
            "\u001b[0;31m---------------------------------------------------------------------------\u001b[0m",
            "\u001b[0;31mAttributeError\u001b[0m                            Traceback (most recent call last)",
            "\u001b[0;32m<ipython-input-51-78c117ee2a80>\u001b[0m in \u001b[0;36m<cell line: 7>\u001b[0;34m()\u001b[0m\n\u001b[1;32m      5\u001b[0m \u001b[0mprint\u001b[0m\u001b[0;34m(\u001b[0m\u001b[0mclassification_report\u001b[0m\u001b[0;34m(\u001b[0m\u001b[0my_test\u001b[0m\u001b[0;34m,\u001b[0m \u001b[0mrf_pred\u001b[0m\u001b[0;34m,\u001b[0m\u001b[0mzero_division\u001b[0m\u001b[0;34m=\u001b[0m\u001b[0;36m0\u001b[0m\u001b[0;34m)\u001b[0m\u001b[0;34m)\u001b[0m\u001b[0;34m\u001b[0m\u001b[0;34m\u001b[0m\u001b[0m\n\u001b[1;32m      6\u001b[0m \u001b[0;34m\u001b[0m\u001b[0m\n\u001b[0;32m----> 7\u001b[0;31m \u001b[0mConfusionMatrixDisplay\u001b[0m\u001b[0;34m.\u001b[0m\u001b[0mfrom_estimator\u001b[0m\u001b[0;34m(\u001b[0m\u001b[0mrf_model\u001b[0m\u001b[0;34m,\u001b[0m \u001b[0mX_test_vect\u001b[0m\u001b[0;34m,\u001b[0m \u001b[0my_test\u001b[0m\u001b[0;34m)\u001b[0m\u001b[0;34m\u001b[0m\u001b[0;34m\u001b[0m\u001b[0m\n\u001b[0m\u001b[1;32m      8\u001b[0m \u001b[0;34m\u001b[0m\u001b[0m\n",
            "\u001b[0;32m/usr/local/lib/python3.10/dist-packages/sklearn/metrics/_plot/confusion_matrix.py\u001b[0m in \u001b[0;36mfrom_estimator\u001b[0;34m(cls, estimator, X, y, labels, sample_weight, normalize, display_labels, include_values, xticks_rotation, values_format, cmap, ax, colorbar, im_kw, text_kw)\u001b[0m\n\u001b[1;32m    318\u001b[0m         \u001b[0;32mif\u001b[0m \u001b[0;32mnot\u001b[0m \u001b[0mis_classifier\u001b[0m\u001b[0;34m(\u001b[0m\u001b[0mestimator\u001b[0m\u001b[0;34m)\u001b[0m\u001b[0;34m:\u001b[0m\u001b[0;34m\u001b[0m\u001b[0;34m\u001b[0m\u001b[0m\n\u001b[1;32m    319\u001b[0m             \u001b[0;32mraise\u001b[0m \u001b[0mValueError\u001b[0m\u001b[0;34m(\u001b[0m\u001b[0;34mf\"{method_name} only supports classifiers\"\u001b[0m\u001b[0;34m)\u001b[0m\u001b[0;34m\u001b[0m\u001b[0;34m\u001b[0m\u001b[0m\n\u001b[0;32m--> 320\u001b[0;31m         \u001b[0my_pred\u001b[0m \u001b[0;34m=\u001b[0m \u001b[0mestimator\u001b[0m\u001b[0;34m.\u001b[0m\u001b[0mpredict\u001b[0m\u001b[0;34m(\u001b[0m\u001b[0mX\u001b[0m\u001b[0;34m)\u001b[0m\u001b[0;34m\u001b[0m\u001b[0;34m\u001b[0m\u001b[0m\n\u001b[0m\u001b[1;32m    321\u001b[0m \u001b[0;34m\u001b[0m\u001b[0m\n\u001b[1;32m    322\u001b[0m         return cls.from_predictions(\n",
            "\u001b[0;32m/usr/local/lib/python3.10/dist-packages/sklearn/ensemble/_forest.py\u001b[0m in \u001b[0;36mpredict\u001b[0;34m(self, X)\u001b[0m\n\u001b[1;32m    821\u001b[0m \u001b[0;34m\u001b[0m\u001b[0m\n\u001b[1;32m    822\u001b[0m         \u001b[0;32mif\u001b[0m \u001b[0mself\u001b[0m\u001b[0;34m.\u001b[0m\u001b[0mn_outputs_\u001b[0m \u001b[0;34m==\u001b[0m \u001b[0;36m1\u001b[0m\u001b[0;34m:\u001b[0m\u001b[0;34m\u001b[0m\u001b[0;34m\u001b[0m\u001b[0m\n\u001b[0;32m--> 823\u001b[0;31m             \u001b[0;32mreturn\u001b[0m \u001b[0mself\u001b[0m\u001b[0;34m.\u001b[0m\u001b[0mclasses_\u001b[0m\u001b[0;34m.\u001b[0m\u001b[0mtake\u001b[0m\u001b[0;34m(\u001b[0m\u001b[0mnp\u001b[0m\u001b[0;34m.\u001b[0m\u001b[0margmax\u001b[0m\u001b[0;34m(\u001b[0m\u001b[0mproba\u001b[0m\u001b[0;34m,\u001b[0m \u001b[0maxis\u001b[0m\u001b[0;34m=\u001b[0m\u001b[0;36m1\u001b[0m\u001b[0;34m)\u001b[0m\u001b[0;34m,\u001b[0m \u001b[0maxis\u001b[0m\u001b[0;34m=\u001b[0m\u001b[0;36m0\u001b[0m\u001b[0;34m)\u001b[0m\u001b[0;34m\u001b[0m\u001b[0;34m\u001b[0m\u001b[0m\n\u001b[0m\u001b[1;32m    824\u001b[0m \u001b[0;34m\u001b[0m\u001b[0m\n\u001b[1;32m    825\u001b[0m         \u001b[0;32melse\u001b[0m\u001b[0;34m:\u001b[0m\u001b[0;34m\u001b[0m\u001b[0;34m\u001b[0m\u001b[0m\n",
            "\u001b[0;31mAttributeError\u001b[0m: 'list' object has no attribute 'take'"
          ]
        }
      ],
      "source": [
        "rf_model = RandomForestClassifier(n_estimators=100)\n",
        "rf_model.fit(X_train_vect, y_train)\n",
        "rf_pred = rf_model.predict(X_test_vect)\n",
        "print(\"Random Forest:\")\n",
        "print(classification_report(y_test, rf_pred,zero_division=0))\n",
        "\n",
        "ConfusionMatrixDisplay.from_estimator(rf_model, X_test_vect, y_test)\n",
        "\n"
      ]
    },
    {
      "cell_type": "code",
      "execution_count": null,
      "metadata": {
        "colab": {
          "base_uri": "https://localhost:8080/"
        },
        "id": "vyMYUWzuxtBP",
        "outputId": "8e631785-3e8f-4424-fcad-20c25eca463b"
      },
      "outputs": [
        {
          "name": "stdout",
          "output_type": "stream",
          "text": [
            "K-Nearest Neighbors:\n",
            "                   precision    recall  f1-score   support\n",
            "\n",
            "          B-ACTOR       0.75      0.74      0.74       812\n",
            "      B-CHARACTER       0.56      0.28      0.37        90\n",
            "       B-DIRECTOR       0.69      0.45      0.55       456\n",
            "          B-GENRE       0.85      0.92      0.89      1117\n",
            "           B-PLOT       0.58      0.35      0.44       491\n",
            "         B-RATING       0.97      0.56      0.71       500\n",
            "B-RATINGS_AVERAGE       0.65      0.60      0.62       451\n",
            "         B-REVIEW       0.09      0.02      0.03        56\n",
            "           B-SONG       0.35      0.13      0.19        54\n",
            "          B-TITLE       0.58      0.26      0.36       562\n",
            "        B-TRAILER       0.81      0.87      0.84        30\n",
            "           B-YEAR       0.89      0.93      0.91       720\n",
            "          I-ACTOR       0.82      0.58      0.68       862\n",
            "      I-CHARACTER       0.53      0.21      0.30        75\n",
            "       I-DIRECTOR       0.77      0.37      0.50       496\n",
            "          I-GENRE       0.77      0.53      0.63       222\n",
            "           I-PLOT       0.36      0.15      0.21       496\n",
            "         I-RATING       0.98      0.86      0.92       226\n",
            "I-RATINGS_AVERAGE       0.35      0.55      0.43       403\n",
            "         I-REVIEW       0.09      0.09      0.09        45\n",
            "           I-SONG       0.43      0.10      0.16       119\n",
            "          I-TITLE       0.56      0.21      0.31       856\n",
            "        I-TRAILER       0.00      0.00      0.00         8\n",
            "           I-YEAR       0.81      0.46      0.59       610\n",
            "                O       0.82      0.96      0.88     14929\n",
            "\n",
            "         accuracy                           0.79     24686\n",
            "        macro avg       0.60      0.45      0.49     24686\n",
            "     weighted avg       0.77      0.79      0.77     24686\n",
            "\n"
          ]
        }
      ],
      "source": [
        "knn = KNeighborsClassifier(n_neighbors=5)\n",
        "knn.fit(X_train_vect, y_train)\n",
        "knn_pred = knn.predict(X_test_vect)\n",
        "print(\"K Neighbors:\")\n",
        "print(classification_report(y_test, knn_pred,zero_division=0))\n",
        "ConfusionMatrixDisplay.from_estimator(knn, X_test, y_test)"
      ]
    }
  ],
  "metadata": {
    "accelerator": "GPU",
    "colab": {
      "gpuType": "T4",
      "provenance": []
    },
    "kernelspec": {
      "display_name": "Python 3",
      "name": "python3"
    },
    "language_info": {
      "codemirror_mode": {
        "name": "ipython",
        "version": 3
      },
      "file_extension": ".py",
      "mimetype": "text/x-python",
      "name": "python",
      "nbconvert_exporter": "python",
      "pygments_lexer": "ipython3",
      "version": "3.11.5"
    }
  },
  "nbformat": 4,
  "nbformat_minor": 0
}
